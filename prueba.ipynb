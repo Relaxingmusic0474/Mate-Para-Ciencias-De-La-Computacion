{
 "cells": [
  {
   "cell_type": "code",
   "execution_count": 2,
   "id": "06620cd1-7edb-4794-95d1-66f5726c14e0",
   "metadata": {},
   "outputs": [
    {
     "name": "stdout",
     "output_type": "stream",
     "text": [
      "Todos los paquetes se instalaron bien\n"
     ]
    }
   ],
   "source": [
    "from pandas import DataFrame as DF\n",
    "import matplotlib.pyplot as plt\n",
    "import numpy as np\n",
    "from ckmeans import ckmeans\n",
    "\n",
    "print(\"Todos los paquetes se instalaron bien\")\n"
   ]
  }
 ],
 "metadata": {
  "kernelspec": {
   "display_name": "Python 3 (ipykernel)",
   "language": "python",
   "name": "python3"
  },
  "language_info": {
   "codemirror_mode": {
    "name": "ipython",
    "version": 3
   },
   "file_extension": ".py",
   "mimetype": "text/x-python",
   "name": "python",
   "nbconvert_exporter": "python",
   "pygments_lexer": "ipython3",
   "version": "3.12.11"
  }
 },
 "nbformat": 4,
 "nbformat_minor": 5
}
